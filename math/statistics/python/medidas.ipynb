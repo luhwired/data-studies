{
 "cells": [
  {
   "cell_type": "code",
   "execution_count": 1,
   "id": "62dc6da3-c1b5-4076-9e84-88438316fb21",
   "metadata": {
    "execution": {
     "iopub.execute_input": "2025-05-15T20:07:02.438968Z",
     "iopub.status.busy": "2025-05-15T20:07:02.438650Z",
     "iopub.status.idle": "2025-05-15T20:07:02.545695Z",
     "shell.execute_reply": "2025-05-15T20:07:02.544998Z",
     "shell.execute_reply.started": "2025-05-15T20:07:02.438945Z"
    }
   },
   "outputs": [],
   "source": [
    "import numpy as np"
   ]
  },
  {
   "cell_type": "code",
   "execution_count": 8,
   "id": "d9e6b4d6-0345-4c4a-b99c-6634e1fd09e1",
   "metadata": {
    "execution": {
     "iopub.execute_input": "2025-05-15T20:09:44.553700Z",
     "iopub.status.busy": "2025-05-15T20:09:44.553339Z",
     "iopub.status.idle": "2025-05-15T20:09:44.557366Z",
     "shell.execute_reply": "2025-05-15T20:09:44.556873Z",
     "shell.execute_reply.started": "2025-05-15T20:09:44.553681Z"
    }
   },
   "outputs": [
    {
     "name": "stdout",
     "output_type": "stream",
     "text": [
      "[23 22 37 46 46 31 30 42 31 36 42 28 48 31 37 34 43 33 46 47 38 35 38 47\n",
      " 32 29 26 45 33 44]\n"
     ]
    }
   ],
   "source": [
    "valores = np.random.randint(20, 50, size=30)\n",
    "print(valores)"
   ]
  },
  {
   "cell_type": "markdown",
   "id": "745bb314-778b-4a50-b903-289d77169778",
   "metadata": {},
   "source": [
    "## Média\n",
    "\n",
    "$$\n",
    "\\bar{x} = \\frac{x_1 + x_2 + \\dots + x_n}{n}\n",
    "$$"
   ]
  },
  {
   "cell_type": "code",
   "execution_count": 49,
   "id": "53fdfe9d-543a-492c-8ee5-5be963084011",
   "metadata": {
    "execution": {
     "iopub.execute_input": "2025-05-15T20:33:51.956742Z",
     "iopub.status.busy": "2025-05-15T20:33:51.955410Z",
     "iopub.status.idle": "2025-05-15T20:33:51.971283Z",
     "shell.execute_reply": "2025-05-15T20:33:51.969560Z",
     "shell.execute_reply.started": "2025-05-15T20:33:51.956624Z"
    }
   },
   "outputs": [
    {
     "name": "stdout",
     "output_type": "stream",
     "text": [
      "Média: 36.666666666666664\n"
     ]
    }
   ],
   "source": [
    "soma = valores.sum()\n",
    "n = len(valores)\n",
    "media = soma / n\n",
    "\n",
    "print(\"Média:\", media)"
   ]
  },
  {
   "cell_type": "code",
   "execution_count": 50,
   "id": "a7b42925-b546-44af-8b94-3afea51a480e",
   "metadata": {
    "execution": {
     "iopub.execute_input": "2025-05-15T20:33:53.355888Z",
     "iopub.status.busy": "2025-05-15T20:33:53.355413Z",
     "iopub.status.idle": "2025-05-15T20:33:53.363637Z",
     "shell.execute_reply": "2025-05-15T20:33:53.362305Z",
     "shell.execute_reply.started": "2025-05-15T20:33:53.355846Z"
    }
   },
   "outputs": [
    {
     "name": "stdout",
     "output_type": "stream",
     "text": [
      "Média: 36.666666666666664\n",
      "Média com Numpy: 36.666666666666664\n"
     ]
    }
   ],
   "source": [
    "soma = 0\n",
    "quantidade = 0\n",
    "\n",
    "for valor in valores:\n",
    "    soma += valor\n",
    "    quantidade += 1\n",
    "\n",
    "media = soma / quantidade\n",
    "\n",
    "print(\"Média:\", media)\n",
    "print(\"Média com Numpy:\", np.mean(valores))"
   ]
  },
  {
   "cell_type": "markdown",
   "id": "7c3b5219-a66a-4320-b98b-fb4fc39f6ee7",
   "metadata": {},
   "source": [
    "----"
   ]
  },
  {
   "cell_type": "markdown",
   "id": "ca7af323-49e8-47b9-adbf-a937cee1a728",
   "metadata": {},
   "source": [
    "### Mediana\n",
    "\n",
    "Seja um conjunto de dados ordenado com \\( $n$ \\)elementos:\n",
    "\n",
    "#### Para \\( $n$ \\) ímpar:\n",
    "\n",
    "$$\n",
    "\\text{Mediana} = x_{\\frac{n+1}{2}}\n",
    "$$\n",
    "\n",
    "#### Para \\( $n$ \\) par:\n",
    "\n",
    "$$\n",
    "\\text{Mediana} = \\frac{x_{\\frac{n}{2}} + x_{\\frac{n}{2} + 1}}{2}\n",
    "$$"
   ]
  },
  {
   "cell_type": "code",
   "execution_count": 51,
   "id": "61b13a15-6eb1-478c-8752-6153c70e286a",
   "metadata": {
    "execution": {
     "iopub.execute_input": "2025-05-15T20:34:16.052115Z",
     "iopub.status.busy": "2025-05-15T20:34:16.051853Z",
     "iopub.status.idle": "2025-05-15T20:34:16.056542Z",
     "shell.execute_reply": "2025-05-15T20:34:16.055802Z",
     "shell.execute_reply.started": "2025-05-15T20:34:16.052098Z"
    }
   },
   "outputs": [
    {
     "name": "stdout",
     "output_type": "stream",
     "text": [
      "Mediana: 36.5\n",
      "Mediana com Numpy: 36.5\n"
     ]
    }
   ],
   "source": [
    "valores_ordenados = sorted(valores)\n",
    "n = 0\n",
    "for _ in valores_ordenados:\n",
    "    n += 1\n",
    "\n",
    "if n % 2 == 1:\n",
    "    mediana = valores_ordenados[n // 2]\n",
    "else:\n",
    "    meio1 = valores_ordenados[n // 2 - 1]\n",
    "    meio2 = valores_ordenados[n // 2]\n",
    "    mediana = (meio1 + meio2) / 2\n",
    "\n",
    "print(\"Mediana:\", mediana)\n",
    "print(\"Mediana com Numpy:\", np.median(valores))"
   ]
  },
  {
   "cell_type": "markdown",
   "id": "216f6ca3-eb07-4ba4-93a1-52b8d8da6826",
   "metadata": {},
   "source": [
    "----"
   ]
  },
  {
   "attachments": {},
   "cell_type": "markdown",
   "id": "d605633f-6d1f-4fb9-b566-f04cac00c640",
   "metadata": {},
   "source": [
    "## Desvio padrão\n",
    "\n",
    "### Amostral\n",
    "\n",
    "$$\n",
    "s = \\sqrt{ \\frac{ \\sum (x_i - \\bar{x})^2 }{n - 1} }\n",
    "$$\n"
   ]
  },
  {
   "cell_type": "code",
   "execution_count": 77,
   "id": "18cb9b61-dde7-4e51-83d0-00d6c38cb301",
   "metadata": {
    "execution": {
     "iopub.execute_input": "2025-05-15T21:06:18.466332Z",
     "iopub.status.busy": "2025-05-15T21:06:18.466047Z",
     "iopub.status.idle": "2025-05-15T21:06:18.472205Z",
     "shell.execute_reply": "2025-05-15T21:06:18.471563Z",
     "shell.execute_reply.started": "2025-05-15T21:06:18.466311Z"
    },
    "scrolled": true
   },
   "outputs": [
    {
     "name": "stdout",
     "output_type": "stream",
     "text": [
      "Média: 36.666666666666664\n",
      "Desvio padrão: 7.603689364645494\n",
      "Desvio padrão: 7.603689364645494\n"
     ]
    }
   ],
   "source": [
    "media = np.mean(valores)\n",
    "\n",
    "diferencas_quadradas = (valores - media) ** 2\n",
    "variancia = diferencas_quadradas.sum() / (len(valores) - 1)\n",
    "desvio_padrao = np.sqrt(variancia)\n",
    "\n",
    "print(f\"Média: {media}\")\n",
    "print(f\"Desvio padrão: {desvio_padrao}\")\n",
    "print(f\"Desvio padrão: {np.std(valores, ddof=1)}\")"
   ]
  },
  {
   "cell_type": "markdown",
   "id": "6b3cfa47-25b1-40d8-8343-82800471bcdd",
   "metadata": {},
   "source": [
    "## Desvio padrão\n",
    "\n",
    "### Populacional\n",
    "\n",
    "$$\n",
    "\\sigma = \\sqrt{ \\frac{ \\sum (x_i - \\mu)^2 }{N} }\n",
    "$$"
   ]
  },
  {
   "cell_type": "code",
   "execution_count": 79,
   "id": "56da7861-50b4-49d1-a823-ed8b4e261404",
   "metadata": {
    "execution": {
     "iopub.execute_input": "2025-05-15T21:07:52.319045Z",
     "iopub.status.busy": "2025-05-15T21:07:52.318523Z",
     "iopub.status.idle": "2025-05-15T21:07:52.325111Z",
     "shell.execute_reply": "2025-05-15T21:07:52.324458Z",
     "shell.execute_reply.started": "2025-05-15T21:07:52.319012Z"
    }
   },
   "outputs": [
    {
     "name": "stdout",
     "output_type": "stream",
     "text": [
      "Média: 3.8744907996042874\n",
      "Desvio padrão populacional (manual): 2.161570653395369\n",
      "Desvio padrão populacional (numpy): 2.161570653395369\n"
     ]
    }
   ],
   "source": [
    "notas = np.random.uniform(0, 10, size=10)\n",
    "\n",
    "media = sum(notas) / len(notas)\n",
    "diferencas_quadradas = (notas - media) ** 2\n",
    "variancia_pop = diferencas_quadradas.sum() / len(notas)\n",
    "desvio_padrao_pop = np.sqrt(variancia_pop)\n",
    "\n",
    "print(f\"Média: {media}\")\n",
    "print(f\"Desvio padrão populacional (manual): {desvio_padrao_pop}\")\n",
    "print(f\"Desvio padrão populacional (numpy): {np.std(notas, ddof=0)}\")"
   ]
  }
 ],
 "metadata": {
  "kernelspec": {
   "display_name": "00_data_analysis",
   "language": "python",
   "name": "00_python_data_analysis"
  },
  "language_info": {
   "codemirror_mode": {
    "name": "ipython",
    "version": 3
   },
   "file_extension": ".py",
   "mimetype": "text/x-python",
   "name": "python",
   "nbconvert_exporter": "python",
   "pygments_lexer": "ipython3",
   "version": "3.13.3"
  }
 },
 "nbformat": 4,
 "nbformat_minor": 5
}
